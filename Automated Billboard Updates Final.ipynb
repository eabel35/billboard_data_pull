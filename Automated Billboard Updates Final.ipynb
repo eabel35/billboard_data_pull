{
 "cells": [
  {
   "cell_type": "code",
   "execution_count": 1,
   "id": "dc259dde",
   "metadata": {},
   "outputs": [],
   "source": [
    "#Auto updater for billboard chart data V0.2 by Eric Abel\n",
    "#Would recommend saving chart file checkpoints in case anything decides to go haywire\n",
    "\n",
    "#any questions email eric.abel35@gmail.com | aaron.stone@umusic.com\n",
    "#ensure to install below if you have not already\n",
    "#!pip install billboard.py"
   ]
  },
  {
   "cell_type": "code",
   "execution_count": 2,
   "id": "02013626",
   "metadata": {},
   "outputs": [],
   "source": [
    "from BillBoard import BillBoard\n",
    "from BillBoard import album_list, song_list, artist_list"
   ]
  },
  {
   "cell_type": "code",
   "execution_count": 14,
   "id": "c5dd0185",
   "metadata": {},
   "outputs": [],
   "source": [
    "bb = BillBoard()"
   ]
  },
  {
   "cell_type": "code",
   "execution_count": 15,
   "id": "7b82cfb5",
   "metadata": {
    "scrolled": true
   },
   "outputs": [],
   "source": [
    "#set update time frame\n",
    "#ends with today\n",
    "today_date = datetime.now()\n",
    "#starts with 28 days ago\n",
    "month_ago = today_date - dt.timedelta(days=28)\n",
    "month_ago_text = datetime.strftime(month_ago, '%Y-%m-%d')"
   ]
  },
  {
   "cell_type": "code",
   "execution_count": 16,
   "id": "235bd4ae",
   "metadata": {},
   "outputs": [
    {
     "name": "stderr",
     "output_type": "stream",
     "text": [
      "C:\\Users\\abele\\OneDrive - Universal Music Group\\Desktop\\Billboard Project\\Automated Billboard Updates\\BillBoard.py:53: FutureWarning: The frame.append method is deprecated and will be removed from pandas in a future version. Use pandas.concat instead.\n",
      "  hotChart_df = pd.DataFrame()\n"
     ]
    },
    {
     "name": "stdout",
     "output_type": "stream",
     "text": [
      "2022-07-30\n"
     ]
    },
    {
     "name": "stderr",
     "output_type": "stream",
     "text": [
      "C:\\Users\\abele\\OneDrive - Universal Music Group\\Desktop\\Billboard Project\\Automated Billboard Updates\\BillBoard.py:53: FutureWarning: The frame.append method is deprecated and will be removed from pandas in a future version. Use pandas.concat instead.\n",
      "  hotChart_df = pd.DataFrame()\n"
     ]
    },
    {
     "name": "stdout",
     "output_type": "stream",
     "text": [
      "2022-07-23\n"
     ]
    },
    {
     "name": "stderr",
     "output_type": "stream",
     "text": [
      "C:\\Users\\abele\\OneDrive - Universal Music Group\\Desktop\\Billboard Project\\Automated Billboard Updates\\BillBoard.py:53: FutureWarning: The frame.append method is deprecated and will be removed from pandas in a future version. Use pandas.concat instead.\n",
      "  hotChart_df = pd.DataFrame()\n"
     ]
    },
    {
     "name": "stdout",
     "output_type": "stream",
     "text": [
      "2022-07-16\n"
     ]
    },
    {
     "name": "stderr",
     "output_type": "stream",
     "text": [
      "C:\\Users\\abele\\OneDrive - Universal Music Group\\Desktop\\Billboard Project\\Automated Billboard Updates\\BillBoard.py:53: FutureWarning: The frame.append method is deprecated and will be removed from pandas in a future version. Use pandas.concat instead.\n",
      "  hotChart_df = pd.DataFrame()\n"
     ]
    },
    {
     "name": "stdout",
     "output_type": "stream",
     "text": [
      "2022-07-09\n"
     ]
    },
    {
     "name": "stderr",
     "output_type": "stream",
     "text": [
      "C:\\Users\\abele\\OneDrive - Universal Music Group\\Desktop\\Billboard Project\\Automated Billboard Updates\\BillBoard.py:53: FutureWarning: The frame.append method is deprecated and will be removed from pandas in a future version. Use pandas.concat instead.\n",
      "  hotChart_df = pd.DataFrame()\n"
     ]
    },
    {
     "name": "stdout",
     "output_type": "stream",
     "text": [
      "2022-07-02\n",
      "Finished with billboard-200\n"
     ]
    },
    {
     "name": "stderr",
     "output_type": "stream",
     "text": [
      "C:\\Users\\abele\\OneDrive - Universal Music Group\\Desktop\\Billboard Project\\Automated Billboard Updates\\BillBoard.py:53: FutureWarning: The frame.append method is deprecated and will be removed from pandas in a future version. Use pandas.concat instead.\n",
      "  hotChart_df = pd.DataFrame()\n"
     ]
    },
    {
     "name": "stdout",
     "output_type": "stream",
     "text": [
      "2022-07-30\n"
     ]
    },
    {
     "name": "stderr",
     "output_type": "stream",
     "text": [
      "C:\\Users\\abele\\OneDrive - Universal Music Group\\Desktop\\Billboard Project\\Automated Billboard Updates\\BillBoard.py:53: FutureWarning: The frame.append method is deprecated and will be removed from pandas in a future version. Use pandas.concat instead.\n",
      "  hotChart_df = pd.DataFrame()\n"
     ]
    },
    {
     "name": "stdout",
     "output_type": "stream",
     "text": [
      "2022-07-23\n"
     ]
    },
    {
     "name": "stderr",
     "output_type": "stream",
     "text": [
      "C:\\Users\\abele\\OneDrive - Universal Music Group\\Desktop\\Billboard Project\\Automated Billboard Updates\\BillBoard.py:53: FutureWarning: The frame.append method is deprecated and will be removed from pandas in a future version. Use pandas.concat instead.\n",
      "  hotChart_df = pd.DataFrame()\n"
     ]
    },
    {
     "name": "stdout",
     "output_type": "stream",
     "text": [
      "2022-07-16\n"
     ]
    },
    {
     "name": "stderr",
     "output_type": "stream",
     "text": [
      "C:\\Users\\abele\\OneDrive - Universal Music Group\\Desktop\\Billboard Project\\Automated Billboard Updates\\BillBoard.py:53: FutureWarning: The frame.append method is deprecated and will be removed from pandas in a future version. Use pandas.concat instead.\n",
      "  hotChart_df = pd.DataFrame()\n"
     ]
    },
    {
     "name": "stdout",
     "output_type": "stream",
     "text": [
      "2022-07-09\n"
     ]
    },
    {
     "name": "stderr",
     "output_type": "stream",
     "text": [
      "C:\\Users\\abele\\OneDrive - Universal Music Group\\Desktop\\Billboard Project\\Automated Billboard Updates\\BillBoard.py:53: FutureWarning: The frame.append method is deprecated and will be removed from pandas in a future version. Use pandas.concat instead.\n",
      "  hotChart_df = pd.DataFrame()\n"
     ]
    },
    {
     "name": "stdout",
     "output_type": "stream",
     "text": [
      "2022-07-02\n",
      "Finished with catalog-albums\n"
     ]
    },
    {
     "name": "stderr",
     "output_type": "stream",
     "text": [
      "C:\\Users\\abele\\OneDrive - Universal Music Group\\Desktop\\Billboard Project\\Automated Billboard Updates\\BillBoard.py:53: FutureWarning: The frame.append method is deprecated and will be removed from pandas in a future version. Use pandas.concat instead.\n",
      "  hotChart_df = pd.DataFrame()\n"
     ]
    },
    {
     "name": "stdout",
     "output_type": "stream",
     "text": [
      "2022-07-30\n"
     ]
    },
    {
     "name": "stderr",
     "output_type": "stream",
     "text": [
      "C:\\Users\\abele\\OneDrive - Universal Music Group\\Desktop\\Billboard Project\\Automated Billboard Updates\\BillBoard.py:53: FutureWarning: The frame.append method is deprecated and will be removed from pandas in a future version. Use pandas.concat instead.\n",
      "  hotChart_df = pd.DataFrame()\n"
     ]
    },
    {
     "name": "stdout",
     "output_type": "stream",
     "text": [
      "2022-07-23\n"
     ]
    },
    {
     "name": "stderr",
     "output_type": "stream",
     "text": [
      "C:\\Users\\abele\\OneDrive - Universal Music Group\\Desktop\\Billboard Project\\Automated Billboard Updates\\BillBoard.py:53: FutureWarning: The frame.append method is deprecated and will be removed from pandas in a future version. Use pandas.concat instead.\n",
      "  hotChart_df = pd.DataFrame()\n"
     ]
    },
    {
     "name": "stdout",
     "output_type": "stream",
     "text": [
      "2022-07-16\n"
     ]
    },
    {
     "name": "stderr",
     "output_type": "stream",
     "text": [
      "C:\\Users\\abele\\OneDrive - Universal Music Group\\Desktop\\Billboard Project\\Automated Billboard Updates\\BillBoard.py:53: FutureWarning: The frame.append method is deprecated and will be removed from pandas in a future version. Use pandas.concat instead.\n",
      "  hotChart_df = pd.DataFrame()\n"
     ]
    },
    {
     "name": "stdout",
     "output_type": "stream",
     "text": [
      "2022-07-09\n"
     ]
    },
    {
     "name": "stderr",
     "output_type": "stream",
     "text": [
      "C:\\Users\\abele\\OneDrive - Universal Music Group\\Desktop\\Billboard Project\\Automated Billboard Updates\\BillBoard.py:53: FutureWarning: The frame.append method is deprecated and will be removed from pandas in a future version. Use pandas.concat instead.\n",
      "  hotChart_df = pd.DataFrame()\n"
     ]
    },
    {
     "name": "stdout",
     "output_type": "stream",
     "text": [
      "2022-07-02\n",
      "Finished with current-albums\n"
     ]
    },
    {
     "name": "stderr",
     "output_type": "stream",
     "text": [
      "C:\\Users\\abele\\OneDrive - Universal Music Group\\Desktop\\Billboard Project\\Automated Billboard Updates\\BillBoard.py:53: FutureWarning: The frame.append method is deprecated and will be removed from pandas in a future version. Use pandas.concat instead.\n",
      "  hotChart_df = pd.DataFrame()\n"
     ]
    },
    {
     "name": "stdout",
     "output_type": "stream",
     "text": [
      "2022-07-30\n"
     ]
    },
    {
     "name": "stderr",
     "output_type": "stream",
     "text": [
      "C:\\Users\\abele\\OneDrive - Universal Music Group\\Desktop\\Billboard Project\\Automated Billboard Updates\\BillBoard.py:53: FutureWarning: The frame.append method is deprecated and will be removed from pandas in a future version. Use pandas.concat instead.\n",
      "  hotChart_df = pd.DataFrame()\n"
     ]
    },
    {
     "name": "stdout",
     "output_type": "stream",
     "text": [
      "2022-07-23\n"
     ]
    },
    {
     "name": "stderr",
     "output_type": "stream",
     "text": [
      "C:\\Users\\abele\\OneDrive - Universal Music Group\\Desktop\\Billboard Project\\Automated Billboard Updates\\BillBoard.py:53: FutureWarning: The frame.append method is deprecated and will be removed from pandas in a future version. Use pandas.concat instead.\n",
      "  hotChart_df = pd.DataFrame()\n"
     ]
    },
    {
     "name": "stdout",
     "output_type": "stream",
     "text": [
      "2022-07-16\n"
     ]
    },
    {
     "name": "stderr",
     "output_type": "stream",
     "text": [
      "C:\\Users\\abele\\OneDrive - Universal Music Group\\Desktop\\Billboard Project\\Automated Billboard Updates\\BillBoard.py:53: FutureWarning: The frame.append method is deprecated and will be removed from pandas in a future version. Use pandas.concat instead.\n",
      "  hotChart_df = pd.DataFrame()\n"
     ]
    },
    {
     "name": "stdout",
     "output_type": "stream",
     "text": [
      "2022-07-09\n"
     ]
    },
    {
     "name": "stderr",
     "output_type": "stream",
     "text": [
      "C:\\Users\\abele\\OneDrive - Universal Music Group\\Desktop\\Billboard Project\\Automated Billboard Updates\\BillBoard.py:53: FutureWarning: The frame.append method is deprecated and will be removed from pandas in a future version. Use pandas.concat instead.\n",
      "  hotChart_df = pd.DataFrame()\n"
     ]
    },
    {
     "name": "stdout",
     "output_type": "stream",
     "text": [
      "2022-07-02\n",
      "Finished with independent-albums\n"
     ]
    },
    {
     "name": "stderr",
     "output_type": "stream",
     "text": [
      "C:\\Users\\abele\\OneDrive - Universal Music Group\\Desktop\\Billboard Project\\Automated Billboard Updates\\BillBoard.py:53: FutureWarning: The frame.append method is deprecated and will be removed from pandas in a future version. Use pandas.concat instead.\n",
      "  hotChart_df = pd.DataFrame()\n"
     ]
    },
    {
     "name": "stdout",
     "output_type": "stream",
     "text": [
      "2022-07-30\n"
     ]
    },
    {
     "name": "stderr",
     "output_type": "stream",
     "text": [
      "C:\\Users\\abele\\OneDrive - Universal Music Group\\Desktop\\Billboard Project\\Automated Billboard Updates\\BillBoard.py:53: FutureWarning: The frame.append method is deprecated and will be removed from pandas in a future version. Use pandas.concat instead.\n",
      "  hotChart_df = pd.DataFrame()\n"
     ]
    },
    {
     "name": "stdout",
     "output_type": "stream",
     "text": [
      "2022-07-23\n"
     ]
    },
    {
     "name": "stderr",
     "output_type": "stream",
     "text": [
      "C:\\Users\\abele\\OneDrive - Universal Music Group\\Desktop\\Billboard Project\\Automated Billboard Updates\\BillBoard.py:53: FutureWarning: The frame.append method is deprecated and will be removed from pandas in a future version. Use pandas.concat instead.\n",
      "  hotChart_df = pd.DataFrame()\n"
     ]
    },
    {
     "name": "stdout",
     "output_type": "stream",
     "text": [
      "2022-07-16\n"
     ]
    },
    {
     "name": "stderr",
     "output_type": "stream",
     "text": [
      "C:\\Users\\abele\\OneDrive - Universal Music Group\\Desktop\\Billboard Project\\Automated Billboard Updates\\BillBoard.py:53: FutureWarning: The frame.append method is deprecated and will be removed from pandas in a future version. Use pandas.concat instead.\n",
      "  hotChart_df = pd.DataFrame()\n"
     ]
    },
    {
     "name": "stdout",
     "output_type": "stream",
     "text": [
      "2022-07-09\n"
     ]
    },
    {
     "name": "stderr",
     "output_type": "stream",
     "text": [
      "C:\\Users\\abele\\OneDrive - Universal Music Group\\Desktop\\Billboard Project\\Automated Billboard Updates\\BillBoard.py:53: FutureWarning: The frame.append method is deprecated and will be removed from pandas in a future version. Use pandas.concat instead.\n",
      "  hotChart_df = pd.DataFrame()\n"
     ]
    },
    {
     "name": "stdout",
     "output_type": "stream",
     "text": [
      "2022-07-02\n",
      "Finished with latin-albums\n"
     ]
    },
    {
     "name": "stderr",
     "output_type": "stream",
     "text": [
      "C:\\Users\\abele\\OneDrive - Universal Music Group\\Desktop\\Billboard Project\\Automated Billboard Updates\\BillBoard.py:53: FutureWarning: The frame.append method is deprecated and will be removed from pandas in a future version. Use pandas.concat instead.\n",
      "  hotChart_df = pd.DataFrame()\n"
     ]
    },
    {
     "name": "stdout",
     "output_type": "stream",
     "text": [
      "2022-07-30\n"
     ]
    },
    {
     "name": "stderr",
     "output_type": "stream",
     "text": [
      "C:\\Users\\abele\\OneDrive - Universal Music Group\\Desktop\\Billboard Project\\Automated Billboard Updates\\BillBoard.py:53: FutureWarning: The frame.append method is deprecated and will be removed from pandas in a future version. Use pandas.concat instead.\n",
      "  hotChart_df = pd.DataFrame()\n"
     ]
    },
    {
     "name": "stdout",
     "output_type": "stream",
     "text": [
      "2022-07-23\n"
     ]
    },
    {
     "name": "stderr",
     "output_type": "stream",
     "text": [
      "C:\\Users\\abele\\OneDrive - Universal Music Group\\Desktop\\Billboard Project\\Automated Billboard Updates\\BillBoard.py:53: FutureWarning: The frame.append method is deprecated and will be removed from pandas in a future version. Use pandas.concat instead.\n",
      "  hotChart_df = pd.DataFrame()\n"
     ]
    },
    {
     "name": "stdout",
     "output_type": "stream",
     "text": [
      "2022-07-16\n"
     ]
    },
    {
     "name": "stderr",
     "output_type": "stream",
     "text": [
      "C:\\Users\\abele\\OneDrive - Universal Music Group\\Desktop\\Billboard Project\\Automated Billboard Updates\\BillBoard.py:53: FutureWarning: The frame.append method is deprecated and will be removed from pandas in a future version. Use pandas.concat instead.\n",
      "  hotChart_df = pd.DataFrame()\n"
     ]
    },
    {
     "name": "stdout",
     "output_type": "stream",
     "text": [
      "2022-07-09\n"
     ]
    },
    {
     "name": "stderr",
     "output_type": "stream",
     "text": [
      "C:\\Users\\abele\\OneDrive - Universal Music Group\\Desktop\\Billboard Project\\Automated Billboard Updates\\BillBoard.py:53: FutureWarning: The frame.append method is deprecated and will be removed from pandas in a future version. Use pandas.concat instead.\n",
      "  hotChart_df = pd.DataFrame()\n"
     ]
    },
    {
     "name": "stdout",
     "output_type": "stream",
     "text": [
      "2022-07-02\n",
      "Finished with soundtracks\n"
     ]
    },
    {
     "name": "stderr",
     "output_type": "stream",
     "text": [
      "C:\\Users\\abele\\OneDrive - Universal Music Group\\Desktop\\Billboard Project\\Automated Billboard Updates\\BillBoard.py:53: FutureWarning: The frame.append method is deprecated and will be removed from pandas in a future version. Use pandas.concat instead.\n",
      "  hotChart_df = pd.DataFrame()\n"
     ]
    },
    {
     "name": "stdout",
     "output_type": "stream",
     "text": [
      "2022-07-30\n"
     ]
    },
    {
     "name": "stderr",
     "output_type": "stream",
     "text": [
      "C:\\Users\\abele\\OneDrive - Universal Music Group\\Desktop\\Billboard Project\\Automated Billboard Updates\\BillBoard.py:53: FutureWarning: The frame.append method is deprecated and will be removed from pandas in a future version. Use pandas.concat instead.\n",
      "  hotChart_df = pd.DataFrame()\n"
     ]
    },
    {
     "name": "stdout",
     "output_type": "stream",
     "text": [
      "2022-07-23\n"
     ]
    },
    {
     "name": "stderr",
     "output_type": "stream",
     "text": [
      "C:\\Users\\abele\\OneDrive - Universal Music Group\\Desktop\\Billboard Project\\Automated Billboard Updates\\BillBoard.py:53: FutureWarning: The frame.append method is deprecated and will be removed from pandas in a future version. Use pandas.concat instead.\n",
      "  hotChart_df = pd.DataFrame()\n"
     ]
    },
    {
     "name": "stdout",
     "output_type": "stream",
     "text": [
      "2022-07-16\n"
     ]
    },
    {
     "name": "stderr",
     "output_type": "stream",
     "text": [
      "C:\\Users\\abele\\OneDrive - Universal Music Group\\Desktop\\Billboard Project\\Automated Billboard Updates\\BillBoard.py:53: FutureWarning: The frame.append method is deprecated and will be removed from pandas in a future version. Use pandas.concat instead.\n",
      "  hotChart_df = pd.DataFrame()\n"
     ]
    },
    {
     "name": "stdout",
     "output_type": "stream",
     "text": [
      "2022-07-09\n"
     ]
    },
    {
     "name": "stderr",
     "output_type": "stream",
     "text": [
      "C:\\Users\\abele\\OneDrive - Universal Music Group\\Desktop\\Billboard Project\\Automated Billboard Updates\\BillBoard.py:53: FutureWarning: The frame.append method is deprecated and will be removed from pandas in a future version. Use pandas.concat instead.\n",
      "  hotChart_df = pd.DataFrame()\n"
     ]
    },
    {
     "name": "stdout",
     "output_type": "stream",
     "text": [
      "2022-07-02\n",
      "Finished with top-album-sales\n"
     ]
    },
    {
     "name": "stderr",
     "output_type": "stream",
     "text": [
      "C:\\Users\\abele\\OneDrive - Universal Music Group\\Desktop\\Billboard Project\\Automated Billboard Updates\\BillBoard.py:53: FutureWarning: The frame.append method is deprecated and will be removed from pandas in a future version. Use pandas.concat instead.\n",
      "  hotChart_df = pd.DataFrame()\n"
     ]
    },
    {
     "name": "stdout",
     "output_type": "stream",
     "text": [
      "2022-07-30\n"
     ]
    },
    {
     "name": "stderr",
     "output_type": "stream",
     "text": [
      "C:\\Users\\abele\\OneDrive - Universal Music Group\\Desktop\\Billboard Project\\Automated Billboard Updates\\BillBoard.py:53: FutureWarning: The frame.append method is deprecated and will be removed from pandas in a future version. Use pandas.concat instead.\n",
      "  hotChart_df = pd.DataFrame()\n"
     ]
    },
    {
     "name": "stdout",
     "output_type": "stream",
     "text": [
      "2022-07-23\n"
     ]
    },
    {
     "name": "stderr",
     "output_type": "stream",
     "text": [
      "C:\\Users\\abele\\OneDrive - Universal Music Group\\Desktop\\Billboard Project\\Automated Billboard Updates\\BillBoard.py:53: FutureWarning: The frame.append method is deprecated and will be removed from pandas in a future version. Use pandas.concat instead.\n",
      "  hotChart_df = pd.DataFrame()\n"
     ]
    },
    {
     "name": "stdout",
     "output_type": "stream",
     "text": [
      "2022-07-16\n"
     ]
    },
    {
     "name": "stderr",
     "output_type": "stream",
     "text": [
      "C:\\Users\\abele\\OneDrive - Universal Music Group\\Desktop\\Billboard Project\\Automated Billboard Updates\\BillBoard.py:53: FutureWarning: The frame.append method is deprecated and will be removed from pandas in a future version. Use pandas.concat instead.\n",
      "  hotChart_df = pd.DataFrame()\n"
     ]
    },
    {
     "name": "stdout",
     "output_type": "stream",
     "text": [
      "2022-07-09\n"
     ]
    },
    {
     "name": "stderr",
     "output_type": "stream",
     "text": [
      "C:\\Users\\abele\\OneDrive - Universal Music Group\\Desktop\\Billboard Project\\Automated Billboard Updates\\BillBoard.py:53: FutureWarning: The frame.append method is deprecated and will be removed from pandas in a future version. Use pandas.concat instead.\n",
      "  hotChart_df = pd.DataFrame()\n"
     ]
    },
    {
     "name": "stdout",
     "output_type": "stream",
     "text": [
      "2022-07-02\n",
      "Finished with vinyl-albums\n"
     ]
    }
   ],
   "source": [
    "for i in album_list:\n",
    "    curr_chart = i\n",
    "    raw_df = bb.chart_comp(chart_name = curr_chart, start_date = month_ago_text)\n",
    "    raw_df.to_csv(curr_chart + ' raw data ' + month_ago_text + ' to ' + datetime.strftime(datetime.now(), '%Y-%m-%d') + '.csv')\n",
    "    df_clean = bb.clean(raw_df,0)\n",
    "    bb.upload(df_clean,curr_chart,3)\n",
    "    print('Finished with ' + curr_chart)"
   ]
  },
  {
   "cell_type": "code",
   "execution_count": 17,
   "id": "ebf0d1bd",
   "metadata": {},
   "outputs": [
    {
     "name": "stderr",
     "output_type": "stream",
     "text": [
      "C:\\Users\\abele\\OneDrive - Universal Music Group\\Desktop\\Billboard Project\\Automated Billboard Updates\\BillBoard.py:53: FutureWarning: The frame.append method is deprecated and will be removed from pandas in a future version. Use pandas.concat instead.\n",
      "  hotChart_df = pd.DataFrame()\n"
     ]
    },
    {
     "name": "stdout",
     "output_type": "stream",
     "text": [
      "2022-07-30\n"
     ]
    },
    {
     "name": "stderr",
     "output_type": "stream",
     "text": [
      "C:\\Users\\abele\\OneDrive - Universal Music Group\\Desktop\\Billboard Project\\Automated Billboard Updates\\BillBoard.py:53: FutureWarning: The frame.append method is deprecated and will be removed from pandas in a future version. Use pandas.concat instead.\n",
      "  hotChart_df = pd.DataFrame()\n"
     ]
    },
    {
     "name": "stdout",
     "output_type": "stream",
     "text": [
      "2022-07-23\n"
     ]
    },
    {
     "name": "stderr",
     "output_type": "stream",
     "text": [
      "C:\\Users\\abele\\OneDrive - Universal Music Group\\Desktop\\Billboard Project\\Automated Billboard Updates\\BillBoard.py:53: FutureWarning: The frame.append method is deprecated and will be removed from pandas in a future version. Use pandas.concat instead.\n",
      "  hotChart_df = pd.DataFrame()\n"
     ]
    },
    {
     "name": "stdout",
     "output_type": "stream",
     "text": [
      "2022-07-16\n"
     ]
    },
    {
     "name": "stderr",
     "output_type": "stream",
     "text": [
      "C:\\Users\\abele\\OneDrive - Universal Music Group\\Desktop\\Billboard Project\\Automated Billboard Updates\\BillBoard.py:53: FutureWarning: The frame.append method is deprecated and will be removed from pandas in a future version. Use pandas.concat instead.\n",
      "  hotChart_df = pd.DataFrame()\n"
     ]
    },
    {
     "name": "stdout",
     "output_type": "stream",
     "text": [
      "2022-07-09\n"
     ]
    },
    {
     "name": "stderr",
     "output_type": "stream",
     "text": [
      "C:\\Users\\abele\\OneDrive - Universal Music Group\\Desktop\\Billboard Project\\Automated Billboard Updates\\BillBoard.py:53: FutureWarning: The frame.append method is deprecated and will be removed from pandas in a future version. Use pandas.concat instead.\n",
      "  hotChart_df = pd.DataFrame()\n"
     ]
    },
    {
     "name": "stdout",
     "output_type": "stream",
     "text": [
      "2022-07-02\n",
      "Finished with hot-100\n"
     ]
    },
    {
     "name": "stderr",
     "output_type": "stream",
     "text": [
      "C:\\Users\\abele\\OneDrive - Universal Music Group\\Desktop\\Billboard Project\\Automated Billboard Updates\\BillBoard.py:53: FutureWarning: The frame.append method is deprecated and will be removed from pandas in a future version. Use pandas.concat instead.\n",
      "  hotChart_df = pd.DataFrame()\n"
     ]
    },
    {
     "name": "stdout",
     "output_type": "stream",
     "text": [
      "2022-07-30\n"
     ]
    },
    {
     "name": "stderr",
     "output_type": "stream",
     "text": [
      "C:\\Users\\abele\\OneDrive - Universal Music Group\\Desktop\\Billboard Project\\Automated Billboard Updates\\BillBoard.py:53: FutureWarning: The frame.append method is deprecated and will be removed from pandas in a future version. Use pandas.concat instead.\n",
      "  hotChart_df = pd.DataFrame()\n"
     ]
    },
    {
     "name": "stdout",
     "output_type": "stream",
     "text": [
      "2022-07-23\n"
     ]
    },
    {
     "name": "stderr",
     "output_type": "stream",
     "text": [
      "C:\\Users\\abele\\OneDrive - Universal Music Group\\Desktop\\Billboard Project\\Automated Billboard Updates\\BillBoard.py:53: FutureWarning: The frame.append method is deprecated and will be removed from pandas in a future version. Use pandas.concat instead.\n",
      "  hotChart_df = pd.DataFrame()\n"
     ]
    },
    {
     "name": "stdout",
     "output_type": "stream",
     "text": [
      "2022-07-16\n"
     ]
    },
    {
     "name": "stderr",
     "output_type": "stream",
     "text": [
      "C:\\Users\\abele\\OneDrive - Universal Music Group\\Desktop\\Billboard Project\\Automated Billboard Updates\\BillBoard.py:53: FutureWarning: The frame.append method is deprecated and will be removed from pandas in a future version. Use pandas.concat instead.\n",
      "  hotChart_df = pd.DataFrame()\n"
     ]
    },
    {
     "name": "stdout",
     "output_type": "stream",
     "text": [
      "2022-07-09\n"
     ]
    },
    {
     "name": "stderr",
     "output_type": "stream",
     "text": [
      "C:\\Users\\abele\\OneDrive - Universal Music Group\\Desktop\\Billboard Project\\Automated Billboard Updates\\BillBoard.py:53: FutureWarning: The frame.append method is deprecated and will be removed from pandas in a future version. Use pandas.concat instead.\n",
      "  hotChart_df = pd.DataFrame()\n"
     ]
    },
    {
     "name": "stdout",
     "output_type": "stream",
     "text": [
      "2022-07-02\n",
      "Finished with billboard-global-200\n"
     ]
    },
    {
     "name": "stderr",
     "output_type": "stream",
     "text": [
      "C:\\Users\\abele\\OneDrive - Universal Music Group\\Desktop\\Billboard Project\\Automated Billboard Updates\\BillBoard.py:53: FutureWarning: The frame.append method is deprecated and will be removed from pandas in a future version. Use pandas.concat instead.\n",
      "  hotChart_df = pd.DataFrame()\n"
     ]
    },
    {
     "name": "stdout",
     "output_type": "stream",
     "text": [
      "2022-07-30\n"
     ]
    },
    {
     "name": "stderr",
     "output_type": "stream",
     "text": [
      "C:\\Users\\abele\\OneDrive - Universal Music Group\\Desktop\\Billboard Project\\Automated Billboard Updates\\BillBoard.py:53: FutureWarning: The frame.append method is deprecated and will be removed from pandas in a future version. Use pandas.concat instead.\n",
      "  hotChart_df = pd.DataFrame()\n"
     ]
    },
    {
     "name": "stdout",
     "output_type": "stream",
     "text": [
      "2022-07-23\n"
     ]
    },
    {
     "name": "stderr",
     "output_type": "stream",
     "text": [
      "C:\\Users\\abele\\OneDrive - Universal Music Group\\Desktop\\Billboard Project\\Automated Billboard Updates\\BillBoard.py:53: FutureWarning: The frame.append method is deprecated and will be removed from pandas in a future version. Use pandas.concat instead.\n",
      "  hotChart_df = pd.DataFrame()\n"
     ]
    },
    {
     "name": "stdout",
     "output_type": "stream",
     "text": [
      "2022-07-16\n"
     ]
    },
    {
     "name": "stderr",
     "output_type": "stream",
     "text": [
      "C:\\Users\\abele\\OneDrive - Universal Music Group\\Desktop\\Billboard Project\\Automated Billboard Updates\\BillBoard.py:53: FutureWarning: The frame.append method is deprecated and will be removed from pandas in a future version. Use pandas.concat instead.\n",
      "  hotChart_df = pd.DataFrame()\n"
     ]
    },
    {
     "name": "stdout",
     "output_type": "stream",
     "text": [
      "2022-07-09\n"
     ]
    },
    {
     "name": "stderr",
     "output_type": "stream",
     "text": [
      "C:\\Users\\abele\\OneDrive - Universal Music Group\\Desktop\\Billboard Project\\Automated Billboard Updates\\BillBoard.py:53: FutureWarning: The frame.append method is deprecated and will be removed from pandas in a future version. Use pandas.concat instead.\n",
      "  hotChart_df = pd.DataFrame()\n"
     ]
    },
    {
     "name": "stdout",
     "output_type": "stream",
     "text": [
      "2022-07-02\n",
      "Finished with billboard-global-excl-us\n"
     ]
    },
    {
     "name": "stderr",
     "output_type": "stream",
     "text": [
      "C:\\Users\\abele\\OneDrive - Universal Music Group\\Desktop\\Billboard Project\\Automated Billboard Updates\\BillBoard.py:53: FutureWarning: The frame.append method is deprecated and will be removed from pandas in a future version. Use pandas.concat instead.\n",
      "  hotChart_df = pd.DataFrame()\n"
     ]
    },
    {
     "name": "stdout",
     "output_type": "stream",
     "text": [
      "2022-07-30\n"
     ]
    },
    {
     "name": "stderr",
     "output_type": "stream",
     "text": [
      "C:\\Users\\abele\\OneDrive - Universal Music Group\\Desktop\\Billboard Project\\Automated Billboard Updates\\BillBoard.py:53: FutureWarning: The frame.append method is deprecated and will be removed from pandas in a future version. Use pandas.concat instead.\n",
      "  hotChart_df = pd.DataFrame()\n"
     ]
    },
    {
     "name": "stdout",
     "output_type": "stream",
     "text": [
      "2022-07-23\n"
     ]
    },
    {
     "name": "stderr",
     "output_type": "stream",
     "text": [
      "C:\\Users\\abele\\OneDrive - Universal Music Group\\Desktop\\Billboard Project\\Automated Billboard Updates\\BillBoard.py:53: FutureWarning: The frame.append method is deprecated and will be removed from pandas in a future version. Use pandas.concat instead.\n",
      "  hotChart_df = pd.DataFrame()\n"
     ]
    },
    {
     "name": "stdout",
     "output_type": "stream",
     "text": [
      "2022-07-16\n"
     ]
    },
    {
     "name": "stderr",
     "output_type": "stream",
     "text": [
      "C:\\Users\\abele\\OneDrive - Universal Music Group\\Desktop\\Billboard Project\\Automated Billboard Updates\\BillBoard.py:53: FutureWarning: The frame.append method is deprecated and will be removed from pandas in a future version. Use pandas.concat instead.\n",
      "  hotChart_df = pd.DataFrame()\n"
     ]
    },
    {
     "name": "stdout",
     "output_type": "stream",
     "text": [
      "2022-07-09\n"
     ]
    },
    {
     "name": "stderr",
     "output_type": "stream",
     "text": [
      "C:\\Users\\abele\\OneDrive - Universal Music Group\\Desktop\\Billboard Project\\Automated Billboard Updates\\BillBoard.py:53: FutureWarning: The frame.append method is deprecated and will be removed from pandas in a future version. Use pandas.concat instead.\n",
      "  hotChart_df = pd.DataFrame()\n"
     ]
    },
    {
     "name": "stdout",
     "output_type": "stream",
     "text": [
      "2022-07-02\n",
      "Finished with billboard-u-s-afrobeats-songs\n"
     ]
    },
    {
     "name": "stderr",
     "output_type": "stream",
     "text": [
      "C:\\Users\\abele\\OneDrive - Universal Music Group\\Desktop\\Billboard Project\\Automated Billboard Updates\\BillBoard.py:53: FutureWarning: The frame.append method is deprecated and will be removed from pandas in a future version. Use pandas.concat instead.\n",
      "  hotChart_df = pd.DataFrame()\n"
     ]
    },
    {
     "name": "stdout",
     "output_type": "stream",
     "text": [
      "2022-07-30\n"
     ]
    },
    {
     "name": "stderr",
     "output_type": "stream",
     "text": [
      "C:\\Users\\abele\\OneDrive - Universal Music Group\\Desktop\\Billboard Project\\Automated Billboard Updates\\BillBoard.py:53: FutureWarning: The frame.append method is deprecated and will be removed from pandas in a future version. Use pandas.concat instead.\n",
      "  hotChart_df = pd.DataFrame()\n"
     ]
    },
    {
     "name": "stdout",
     "output_type": "stream",
     "text": [
      "2022-07-23\n"
     ]
    },
    {
     "name": "stderr",
     "output_type": "stream",
     "text": [
      "C:\\Users\\abele\\OneDrive - Universal Music Group\\Desktop\\Billboard Project\\Automated Billboard Updates\\BillBoard.py:53: FutureWarning: The frame.append method is deprecated and will be removed from pandas in a future version. Use pandas.concat instead.\n",
      "  hotChart_df = pd.DataFrame()\n"
     ]
    },
    {
     "name": "stdout",
     "output_type": "stream",
     "text": [
      "2022-07-16\n"
     ]
    },
    {
     "name": "stderr",
     "output_type": "stream",
     "text": [
      "C:\\Users\\abele\\OneDrive - Universal Music Group\\Desktop\\Billboard Project\\Automated Billboard Updates\\BillBoard.py:53: FutureWarning: The frame.append method is deprecated and will be removed from pandas in a future version. Use pandas.concat instead.\n",
      "  hotChart_df = pd.DataFrame()\n"
     ]
    },
    {
     "name": "stdout",
     "output_type": "stream",
     "text": [
      "2022-07-09\n"
     ]
    },
    {
     "name": "stderr",
     "output_type": "stream",
     "text": [
      "C:\\Users\\abele\\OneDrive - Universal Music Group\\Desktop\\Billboard Project\\Automated Billboard Updates\\BillBoard.py:53: FutureWarning: The frame.append method is deprecated and will be removed from pandas in a future version. Use pandas.concat instead.\n",
      "  hotChart_df = pd.DataFrame()\n"
     ]
    },
    {
     "name": "stdout",
     "output_type": "stream",
     "text": [
      "2022-07-02\n",
      "Finished with country-songs\n"
     ]
    },
    {
     "name": "stderr",
     "output_type": "stream",
     "text": [
      "C:\\Users\\abele\\OneDrive - Universal Music Group\\Desktop\\Billboard Project\\Automated Billboard Updates\\BillBoard.py:53: FutureWarning: The frame.append method is deprecated and will be removed from pandas in a future version. Use pandas.concat instead.\n",
      "  hotChart_df = pd.DataFrame()\n"
     ]
    },
    {
     "name": "stdout",
     "output_type": "stream",
     "text": [
      "2022-07-30\n"
     ]
    },
    {
     "name": "stderr",
     "output_type": "stream",
     "text": [
      "C:\\Users\\abele\\OneDrive - Universal Music Group\\Desktop\\Billboard Project\\Automated Billboard Updates\\BillBoard.py:53: FutureWarning: The frame.append method is deprecated and will be removed from pandas in a future version. Use pandas.concat instead.\n",
      "  hotChart_df = pd.DataFrame()\n"
     ]
    },
    {
     "name": "stdout",
     "output_type": "stream",
     "text": [
      "2022-07-23\n"
     ]
    },
    {
     "name": "stderr",
     "output_type": "stream",
     "text": [
      "C:\\Users\\abele\\OneDrive - Universal Music Group\\Desktop\\Billboard Project\\Automated Billboard Updates\\BillBoard.py:53: FutureWarning: The frame.append method is deprecated and will be removed from pandas in a future version. Use pandas.concat instead.\n",
      "  hotChart_df = pd.DataFrame()\n"
     ]
    },
    {
     "name": "stdout",
     "output_type": "stream",
     "text": [
      "2022-07-16\n"
     ]
    },
    {
     "name": "stderr",
     "output_type": "stream",
     "text": [
      "C:\\Users\\abele\\OneDrive - Universal Music Group\\Desktop\\Billboard Project\\Automated Billboard Updates\\BillBoard.py:53: FutureWarning: The frame.append method is deprecated and will be removed from pandas in a future version. Use pandas.concat instead.\n",
      "  hotChart_df = pd.DataFrame()\n"
     ]
    },
    {
     "name": "stdout",
     "output_type": "stream",
     "text": [
      "2022-07-09\n"
     ]
    },
    {
     "name": "stderr",
     "output_type": "stream",
     "text": [
      "C:\\Users\\abele\\OneDrive - Universal Music Group\\Desktop\\Billboard Project\\Automated Billboard Updates\\BillBoard.py:53: FutureWarning: The frame.append method is deprecated and will be removed from pandas in a future version. Use pandas.concat instead.\n",
      "  hotChart_df = pd.DataFrame()\n"
     ]
    },
    {
     "name": "stdout",
     "output_type": "stream",
     "text": [
      "2022-07-02\n",
      "Finished with dance-electronic-songs\n"
     ]
    },
    {
     "name": "stderr",
     "output_type": "stream",
     "text": [
      "C:\\Users\\abele\\OneDrive - Universal Music Group\\Desktop\\Billboard Project\\Automated Billboard Updates\\BillBoard.py:53: FutureWarning: The frame.append method is deprecated and will be removed from pandas in a future version. Use pandas.concat instead.\n",
      "  hotChart_df = pd.DataFrame()\n"
     ]
    },
    {
     "name": "stdout",
     "output_type": "stream",
     "text": [
      "2022-07-30\n"
     ]
    },
    {
     "name": "stderr",
     "output_type": "stream",
     "text": [
      "C:\\Users\\abele\\OneDrive - Universal Music Group\\Desktop\\Billboard Project\\Automated Billboard Updates\\BillBoard.py:53: FutureWarning: The frame.append method is deprecated and will be removed from pandas in a future version. Use pandas.concat instead.\n",
      "  hotChart_df = pd.DataFrame()\n"
     ]
    },
    {
     "name": "stdout",
     "output_type": "stream",
     "text": [
      "2022-07-23\n"
     ]
    },
    {
     "name": "stderr",
     "output_type": "stream",
     "text": [
      "C:\\Users\\abele\\OneDrive - Universal Music Group\\Desktop\\Billboard Project\\Automated Billboard Updates\\BillBoard.py:53: FutureWarning: The frame.append method is deprecated and will be removed from pandas in a future version. Use pandas.concat instead.\n",
      "  hotChart_df = pd.DataFrame()\n"
     ]
    },
    {
     "name": "stdout",
     "output_type": "stream",
     "text": [
      "2022-07-16\n"
     ]
    },
    {
     "name": "stderr",
     "output_type": "stream",
     "text": [
      "C:\\Users\\abele\\OneDrive - Universal Music Group\\Desktop\\Billboard Project\\Automated Billboard Updates\\BillBoard.py:53: FutureWarning: The frame.append method is deprecated and will be removed from pandas in a future version. Use pandas.concat instead.\n",
      "  hotChart_df = pd.DataFrame()\n"
     ]
    },
    {
     "name": "stdout",
     "output_type": "stream",
     "text": [
      "2022-07-09\n"
     ]
    },
    {
     "name": "stderr",
     "output_type": "stream",
     "text": [
      "C:\\Users\\abele\\OneDrive - Universal Music Group\\Desktop\\Billboard Project\\Automated Billboard Updates\\BillBoard.py:53: FutureWarning: The frame.append method is deprecated and will be removed from pandas in a future version. Use pandas.concat instead.\n",
      "  hotChart_df = pd.DataFrame()\n"
     ]
    },
    {
     "name": "stdout",
     "output_type": "stream",
     "text": [
      "2022-07-02\n",
      "Finished with r-and-b-songs\n"
     ]
    },
    {
     "name": "stderr",
     "output_type": "stream",
     "text": [
      "C:\\Users\\abele\\OneDrive - Universal Music Group\\Desktop\\Billboard Project\\Automated Billboard Updates\\BillBoard.py:53: FutureWarning: The frame.append method is deprecated and will be removed from pandas in a future version. Use pandas.concat instead.\n",
      "  hotChart_df = pd.DataFrame()\n"
     ]
    },
    {
     "name": "stdout",
     "output_type": "stream",
     "text": [
      "2022-07-30\n"
     ]
    },
    {
     "name": "stderr",
     "output_type": "stream",
     "text": [
      "C:\\Users\\abele\\OneDrive - Universal Music Group\\Desktop\\Billboard Project\\Automated Billboard Updates\\BillBoard.py:53: FutureWarning: The frame.append method is deprecated and will be removed from pandas in a future version. Use pandas.concat instead.\n",
      "  hotChart_df = pd.DataFrame()\n"
     ]
    },
    {
     "name": "stdout",
     "output_type": "stream",
     "text": [
      "2022-07-23\n"
     ]
    },
    {
     "name": "stderr",
     "output_type": "stream",
     "text": [
      "C:\\Users\\abele\\OneDrive - Universal Music Group\\Desktop\\Billboard Project\\Automated Billboard Updates\\BillBoard.py:53: FutureWarning: The frame.append method is deprecated and will be removed from pandas in a future version. Use pandas.concat instead.\n",
      "  hotChart_df = pd.DataFrame()\n"
     ]
    },
    {
     "name": "stdout",
     "output_type": "stream",
     "text": [
      "2022-07-16\n"
     ]
    },
    {
     "name": "stderr",
     "output_type": "stream",
     "text": [
      "C:\\Users\\abele\\OneDrive - Universal Music Group\\Desktop\\Billboard Project\\Automated Billboard Updates\\BillBoard.py:53: FutureWarning: The frame.append method is deprecated and will be removed from pandas in a future version. Use pandas.concat instead.\n",
      "  hotChart_df = pd.DataFrame()\n"
     ]
    },
    {
     "name": "stdout",
     "output_type": "stream",
     "text": [
      "2022-07-09\n"
     ]
    },
    {
     "name": "stderr",
     "output_type": "stream",
     "text": [
      "C:\\Users\\abele\\OneDrive - Universal Music Group\\Desktop\\Billboard Project\\Automated Billboard Updates\\BillBoard.py:53: FutureWarning: The frame.append method is deprecated and will be removed from pandas in a future version. Use pandas.concat instead.\n",
      "  hotChart_df = pd.DataFrame()\n"
     ]
    },
    {
     "name": "stdout",
     "output_type": "stream",
     "text": [
      "2022-07-02\n",
      "Finished with radio-songs\n"
     ]
    },
    {
     "name": "stderr",
     "output_type": "stream",
     "text": [
      "C:\\Users\\abele\\OneDrive - Universal Music Group\\Desktop\\Billboard Project\\Automated Billboard Updates\\BillBoard.py:53: FutureWarning: The frame.append method is deprecated and will be removed from pandas in a future version. Use pandas.concat instead.\n",
      "  hotChart_df = pd.DataFrame()\n"
     ]
    },
    {
     "name": "stdout",
     "output_type": "stream",
     "text": [
      "2022-07-30\n"
     ]
    },
    {
     "name": "stderr",
     "output_type": "stream",
     "text": [
      "C:\\Users\\abele\\OneDrive - Universal Music Group\\Desktop\\Billboard Project\\Automated Billboard Updates\\BillBoard.py:53: FutureWarning: The frame.append method is deprecated and will be removed from pandas in a future version. Use pandas.concat instead.\n",
      "  hotChart_df = pd.DataFrame()\n"
     ]
    },
    {
     "name": "stdout",
     "output_type": "stream",
     "text": [
      "2022-07-23\n"
     ]
    },
    {
     "name": "stderr",
     "output_type": "stream",
     "text": [
      "C:\\Users\\abele\\OneDrive - Universal Music Group\\Desktop\\Billboard Project\\Automated Billboard Updates\\BillBoard.py:53: FutureWarning: The frame.append method is deprecated and will be removed from pandas in a future version. Use pandas.concat instead.\n",
      "  hotChart_df = pd.DataFrame()\n"
     ]
    },
    {
     "name": "stdout",
     "output_type": "stream",
     "text": [
      "2022-07-16\n"
     ]
    },
    {
     "name": "stderr",
     "output_type": "stream",
     "text": [
      "C:\\Users\\abele\\OneDrive - Universal Music Group\\Desktop\\Billboard Project\\Automated Billboard Updates\\BillBoard.py:53: FutureWarning: The frame.append method is deprecated and will be removed from pandas in a future version. Use pandas.concat instead.\n",
      "  hotChart_df = pd.DataFrame()\n"
     ]
    },
    {
     "name": "stdout",
     "output_type": "stream",
     "text": [
      "2022-07-09\n"
     ]
    },
    {
     "name": "stderr",
     "output_type": "stream",
     "text": [
      "C:\\Users\\abele\\OneDrive - Universal Music Group\\Desktop\\Billboard Project\\Automated Billboard Updates\\BillBoard.py:53: FutureWarning: The frame.append method is deprecated and will be removed from pandas in a future version. Use pandas.concat instead.\n",
      "  hotChart_df = pd.DataFrame()\n"
     ]
    },
    {
     "name": "stdout",
     "output_type": "stream",
     "text": [
      "2022-07-02\n",
      "Finished with streaming-songs\n"
     ]
    },
    {
     "name": "stderr",
     "output_type": "stream",
     "text": [
      "C:\\Users\\abele\\OneDrive - Universal Music Group\\Desktop\\Billboard Project\\Automated Billboard Updates\\BillBoard.py:53: FutureWarning: The frame.append method is deprecated and will be removed from pandas in a future version. Use pandas.concat instead.\n",
      "  hotChart_df = pd.DataFrame()\n"
     ]
    },
    {
     "name": "stdout",
     "output_type": "stream",
     "text": [
      "2022-07-30\n"
     ]
    },
    {
     "name": "stderr",
     "output_type": "stream",
     "text": [
      "C:\\Users\\abele\\OneDrive - Universal Music Group\\Desktop\\Billboard Project\\Automated Billboard Updates\\BillBoard.py:53: FutureWarning: The frame.append method is deprecated and will be removed from pandas in a future version. Use pandas.concat instead.\n",
      "  hotChart_df = pd.DataFrame()\n"
     ]
    },
    {
     "name": "stdout",
     "output_type": "stream",
     "text": [
      "2022-07-23\n"
     ]
    },
    {
     "name": "stderr",
     "output_type": "stream",
     "text": [
      "C:\\Users\\abele\\OneDrive - Universal Music Group\\Desktop\\Billboard Project\\Automated Billboard Updates\\BillBoard.py:53: FutureWarning: The frame.append method is deprecated and will be removed from pandas in a future version. Use pandas.concat instead.\n",
      "  hotChart_df = pd.DataFrame()\n"
     ]
    },
    {
     "name": "stdout",
     "output_type": "stream",
     "text": [
      "2022-07-16\n"
     ]
    },
    {
     "name": "stderr",
     "output_type": "stream",
     "text": [
      "C:\\Users\\abele\\OneDrive - Universal Music Group\\Desktop\\Billboard Project\\Automated Billboard Updates\\BillBoard.py:53: FutureWarning: The frame.append method is deprecated and will be removed from pandas in a future version. Use pandas.concat instead.\n",
      "  hotChart_df = pd.DataFrame()\n"
     ]
    },
    {
     "name": "stdout",
     "output_type": "stream",
     "text": [
      "2022-07-09\n"
     ]
    },
    {
     "name": "stderr",
     "output_type": "stream",
     "text": [
      "C:\\Users\\abele\\OneDrive - Universal Music Group\\Desktop\\Billboard Project\\Automated Billboard Updates\\BillBoard.py:53: FutureWarning: The frame.append method is deprecated and will be removed from pandas in a future version. Use pandas.concat instead.\n",
      "  hotChart_df = pd.DataFrame()\n"
     ]
    },
    {
     "name": "stdout",
     "output_type": "stream",
     "text": [
      "2022-07-02\n",
      "Finished with summer-songs\n"
     ]
    }
   ],
   "source": [
    "for i in song_list:\n",
    "    curr_chart = i\n",
    "    raw_df = bb.chart_comp(chart_name = curr_chart, start_date = month_ago_text)\n",
    "    raw_df.to_csv(curr_chart + ' raw data ' + month_ago_text + ' to ' + datetime.strftime(datetime.now(), '%Y-%m-%d') + '.csv')\n",
    "    df_clean = bb.clean(raw_df,1)\n",
    "    bb.upload(df_clean,curr_chart,3)\n",
    "    print('Finished with ' + curr_chart)"
   ]
  },
  {
   "cell_type": "code",
   "execution_count": 18,
   "id": "a1b4fbb5",
   "metadata": {},
   "outputs": [
    {
     "ename": "NameError",
     "evalue": "name 'chart_comp' is not defined",
     "output_type": "error",
     "traceback": [
      "\u001b[1;31m---------------------------------------------------------------------------\u001b[0m",
      "\u001b[1;31mNameError\u001b[0m                                 Traceback (most recent call last)",
      "Input \u001b[1;32mIn [18]\u001b[0m, in \u001b[0;36m<cell line: 1>\u001b[1;34m()\u001b[0m\n\u001b[0;32m      1\u001b[0m \u001b[38;5;28;01mfor\u001b[39;00m i \u001b[38;5;129;01min\u001b[39;00m artist_list:\n\u001b[0;32m      2\u001b[0m     curr_chart \u001b[38;5;241m=\u001b[39m i\n\u001b[1;32m----> 3\u001b[0m     raw_df \u001b[38;5;241m=\u001b[39m \u001b[43mchart_comp\u001b[49m(chart_name \u001b[38;5;241m=\u001b[39m curr_chart, start_date \u001b[38;5;241m=\u001b[39m month_ago_text)\n\u001b[0;32m      4\u001b[0m     raw_df\u001b[38;5;241m.\u001b[39mto_csv(curr_chart \u001b[38;5;241m+\u001b[39m \u001b[38;5;124m'\u001b[39m\u001b[38;5;124m raw data \u001b[39m\u001b[38;5;124m'\u001b[39m \u001b[38;5;241m+\u001b[39m month_ago_text \u001b[38;5;241m+\u001b[39m \u001b[38;5;124m'\u001b[39m\u001b[38;5;124m to \u001b[39m\u001b[38;5;124m'\u001b[39m \u001b[38;5;241m+\u001b[39m datetime\u001b[38;5;241m.\u001b[39mstrftime(datetime\u001b[38;5;241m.\u001b[39mnow(), \u001b[38;5;124m'\u001b[39m\u001b[38;5;124m%\u001b[39m\u001b[38;5;124mY-\u001b[39m\u001b[38;5;124m%\u001b[39m\u001b[38;5;124mm-\u001b[39m\u001b[38;5;132;01m%d\u001b[39;00m\u001b[38;5;124m'\u001b[39m) \u001b[38;5;241m+\u001b[39m \u001b[38;5;124m'\u001b[39m\u001b[38;5;124m.csv\u001b[39m\u001b[38;5;124m'\u001b[39m)\n\u001b[0;32m      5\u001b[0m     df_clean \u001b[38;5;241m=\u001b[39m clean(raw_df,\u001b[38;5;241m2\u001b[39m)\n",
      "\u001b[1;31mNameError\u001b[0m: name 'chart_comp' is not defined"
     ]
    }
   ],
   "source": [
    "for i in artist_list:\n",
    "    curr_chart = i\n",
    "    raw_df = chart_comp(chart_name = curr_chart, start_date = month_ago_text)\n",
    "    raw_df.to_csv(curr_chart + ' raw data ' + month_ago_text + ' to ' + datetime.strftime(datetime.now(), '%Y-%m-%d') + '.csv')\n",
    "    df_clean = clean(raw_df,2)\n",
    "    upload(df_clean,curr_chart,2)\n",
    "    print('Finished with ' + curr_chart)"
   ]
  },
  {
   "cell_type": "code",
   "execution_count": 18,
   "id": "801a2444",
   "metadata": {},
   "outputs": [
    {
     "name": "stdout",
     "output_type": "stream",
     "text": [
      "billboard-200\n",
      "catalog-albums\n",
      "current-albums\n",
      "independent-albums\n",
      "latin-albums\n",
      "soundtracks\n",
      "top-album-sales\n",
      "vinyl-albums\n"
     ]
    },
    {
     "data": {
      "text/html": [
       "<div>\n",
       "<style scoped>\n",
       "    .dataframe tbody tr th:only-of-type {\n",
       "        vertical-align: middle;\n",
       "    }\n",
       "\n",
       "    .dataframe tbody tr th {\n",
       "        vertical-align: top;\n",
       "    }\n",
       "\n",
       "    .dataframe thead th {\n",
       "        text-align: right;\n",
       "    }\n",
       "</style>\n",
       "<table border=\"1\" class=\"dataframe\">\n",
       "  <thead>\n",
       "    <tr style=\"text-align: right;\">\n",
       "      <th></th>\n",
       "      <th>Week</th>\n",
       "      <th>Position</th>\n",
       "      <th>Album Title</th>\n",
       "      <th>Artist Name(s)</th>\n",
       "      <th>Chart</th>\n",
       "    </tr>\n",
       "  </thead>\n",
       "  <tbody>\n",
       "    <tr>\n",
       "      <th>0</th>\n",
       "      <td>2022-07-09</td>\n",
       "      <td>1</td>\n",
       "      <td>Call Me If You Get Lost</td>\n",
       "      <td>Tyler, The Creator</td>\n",
       "      <td>Vinyl Albums</td>\n",
       "    </tr>\n",
       "    <tr>\n",
       "      <th>1</th>\n",
       "      <td>2022-07-09</td>\n",
       "      <td>2</td>\n",
       "      <td>Donda</td>\n",
       "      <td>Kanye West</td>\n",
       "      <td>Vinyl Albums</td>\n",
       "    </tr>\n",
       "    <tr>\n",
       "      <th>2</th>\n",
       "      <td>2022-07-09</td>\n",
       "      <td>3</td>\n",
       "      <td>Superache</td>\n",
       "      <td>Conan Gray</td>\n",
       "      <td>Vinyl Albums</td>\n",
       "    </tr>\n",
       "    <tr>\n",
       "      <th>3</th>\n",
       "      <td>2022-07-09</td>\n",
       "      <td>4</td>\n",
       "      <td>Harry's House</td>\n",
       "      <td>Harry Styles</td>\n",
       "      <td>Vinyl Albums</td>\n",
       "    </tr>\n",
       "    <tr>\n",
       "      <th>4</th>\n",
       "      <td>2022-07-09</td>\n",
       "      <td>5</td>\n",
       "      <td>Mainstream Sellout</td>\n",
       "      <td>Machine Gun Kelly</td>\n",
       "      <td>Vinyl Albums</td>\n",
       "    </tr>\n",
       "    <tr>\n",
       "      <th>...</th>\n",
       "      <td>...</td>\n",
       "      <td>...</td>\n",
       "      <td>...</td>\n",
       "      <td>...</td>\n",
       "      <td>...</td>\n",
       "    </tr>\n",
       "    <tr>\n",
       "      <th>605131</th>\n",
       "      <td>1963-08-17</td>\n",
       "      <td>146</td>\n",
       "      <td>The Dave Brubeck Quartet At Carnegie Hall</td>\n",
       "      <td>The Dave Brubeck Quartet</td>\n",
       "      <td>Billboard 200</td>\n",
       "    </tr>\n",
       "    <tr>\n",
       "      <th>605132</th>\n",
       "      <td>1963-08-17</td>\n",
       "      <td>147</td>\n",
       "      <td>Encore: Woody Herman - 1963</td>\n",
       "      <td>Woody Herman</td>\n",
       "      <td>Billboard 200</td>\n",
       "    </tr>\n",
       "    <tr>\n",
       "      <th>605133</th>\n",
       "      <td>1963-08-17</td>\n",
       "      <td>148</td>\n",
       "      <td>1963's Early Hits</td>\n",
       "      <td>Lawrence Welk</td>\n",
       "      <td>Billboard 200</td>\n",
       "    </tr>\n",
       "    <tr>\n",
       "      <th>605134</th>\n",
       "      <td>1963-08-17</td>\n",
       "      <td>149</td>\n",
       "      <td>Knockers Up!</td>\n",
       "      <td>Rusty Warren</td>\n",
       "      <td>Billboard 200</td>\n",
       "    </tr>\n",
       "    <tr>\n",
       "      <th>605135</th>\n",
       "      <td>1963-08-17</td>\n",
       "      <td>150</td>\n",
       "      <td>Film Spectacular</td>\n",
       "      <td>Stanley Black</td>\n",
       "      <td>Billboard 200</td>\n",
       "    </tr>\n",
       "  </tbody>\n",
       "</table>\n",
       "<p>1225405 rows × 5 columns</p>\n",
       "</div>"
      ],
      "text/plain": [
       "              Week Position                                Album Title  \\\n",
       "0       2022-07-09        1                    Call Me If You Get Lost   \n",
       "1       2022-07-09        2                                      Donda   \n",
       "2       2022-07-09        3                                  Superache   \n",
       "3       2022-07-09        4                              Harry's House   \n",
       "4       2022-07-09        5                         Mainstream Sellout   \n",
       "...            ...      ...                                        ...   \n",
       "605131  1963-08-17      146  The Dave Brubeck Quartet At Carnegie Hall   \n",
       "605132  1963-08-17      147                Encore: Woody Herman - 1963   \n",
       "605133  1963-08-17      148                          1963's Early Hits   \n",
       "605134  1963-08-17      149                               Knockers Up!   \n",
       "605135  1963-08-17      150                           Film Spectacular   \n",
       "\n",
       "                  Artist Name(s)          Chart  \n",
       "0             Tyler, The Creator   Vinyl Albums  \n",
       "1                     Kanye West   Vinyl Albums  \n",
       "2                     Conan Gray   Vinyl Albums  \n",
       "3                   Harry Styles   Vinyl Albums  \n",
       "4              Machine Gun Kelly   Vinyl Albums  \n",
       "...                          ...            ...  \n",
       "605131  The Dave Brubeck Quartet  Billboard 200  \n",
       "605132              Woody Herman  Billboard 200  \n",
       "605133             Lawrence Welk  Billboard 200  \n",
       "605134              Rusty Warren  Billboard 200  \n",
       "605135             Stanley Black  Billboard 200  \n",
       "\n",
       "[1225405 rows x 5 columns]"
      ]
     },
     "execution_count": 18,
     "metadata": {},
     "output_type": "execute_result"
    }
   ],
   "source": [
    "#combo script - ignore for now\n",
    "album_combo = bb.gc.open('Album Charts').sheet1\n",
    "df = pd.DataFrame(columns = ['Week','Position','Album Title','Artist Name(s)','Chart'])\n",
    "for i in album_list:\n",
    "    file_name = i\n",
    "    curr_chart = gc.open(file_name).sheet1\n",
    "    next_chart = gd.get_as_dataframe(curr_chart, usecols=list(range(5))).dropna()\n",
    "    df = pd.concat([next_chart, df])\n",
    "    print(i)\n",
    "gd.set_with_dataframe(album_combo, df.drop_duplicates())"
   ]
  },
  {
   "cell_type": "code",
   "execution_count": 23,
   "id": "25835aef",
   "metadata": {},
   "outputs": [
    {
     "name": "stdout",
     "output_type": "stream",
     "text": [
      "hot-100\n",
      "billboard-global-200\n",
      "billboard-global-excl-us\n",
      "billboard-u-s-afrobeats-songs\n",
      "country-songs\n",
      "dance-electronic-songs\n",
      "r-and-b-songs\n",
      "radio-songs\n",
      "streaming-songs\n",
      "summer-songs\n"
     ]
    }
   ],
   "source": [
    "song_combo = bb.gc.open('Song Charts').sheet1\n",
    "df = pd.DataFrame(columns = ['Week','Position','Song Title','Artist Name(s)','Chart'])\n",
    "for i in song_list:\n",
    "    file_name = i\n",
    "    curr_chart = gc.open(file_name).sheet1\n",
    "    next_chart = gd.get_as_dataframe(curr_chart, usecols=list(range(5))).dropna()\n",
    "    df = pd.concat([next_chart, df])\n",
    "    print(i)\n",
    "gd.set_with_dataframe(song_combo, df.drop_duplicates())"
   ]
  }
 ],
 "metadata": {
  "kernelspec": {
   "display_name": "Python 3 (ipykernel)",
   "language": "python",
   "name": "python3"
  },
  "language_info": {
   "codemirror_mode": {
    "name": "ipython",
    "version": 3
   },
   "file_extension": ".py",
   "mimetype": "text/x-python",
   "name": "python",
   "nbconvert_exporter": "python",
   "pygments_lexer": "ipython3",
   "version": "3.9.12"
  }
 },
 "nbformat": 4,
 "nbformat_minor": 5
}
